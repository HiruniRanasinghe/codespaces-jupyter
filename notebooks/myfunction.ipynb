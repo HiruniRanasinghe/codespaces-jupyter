{
 "cells": [
  {
   "cell_type": "code",
   "execution_count": 1,
   "metadata": {},
   "outputs": [
    {
     "name": "stdout",
     "output_type": "stream",
     "text": [
      "Hello world!\n"
     ]
    }
   ],
   "source": [
    "# function\n",
    "def printMsg():\n",
    "    print(\"Hello world!\")\n",
    "printMsg()    "
   ]
  },
  {
   "cell_type": "code",
   "execution_count": 5,
   "metadata": {},
   "outputs": [
    {
     "name": "stdout",
     "output_type": "stream",
     "text": [
      "The mesage is : Django workshop\n"
     ]
    }
   ],
   "source": [
    "def myMessage(msg):\n",
    "    print(\"The mesage is :\", msg)\n",
    "myMessage('Django workshop')    "
   ]
  },
  {
   "cell_type": "code",
   "execution_count": 6,
   "metadata": {},
   "outputs": [
    {
     "name": "stdout",
     "output_type": "stream",
     "text": [
      "Gemini\n",
      "IT\n"
     ]
    }
   ],
   "source": [
    "def message(name):\n",
    "    print(name)\n",
    "\n",
    "name='IT'\n",
    "message('Gemini')\n",
    "print(name)    "
   ]
  },
  {
   "cell_type": "code",
   "execution_count": 11,
   "metadata": {},
   "outputs": [
    {
     "name": "stdout",
     "output_type": "stream",
     "text": [
      "4 6 8\n",
      "8 4 6\n",
      "4 8 6\n",
      "4 6 8\n"
     ]
    }
   ],
   "source": [
    "def myNumber(a,b,c):\n",
    "    print(a,b,c)\n",
    "\n",
    "myNumber(4,6,8)\n",
    "myNumber(b=4,c=6,a=8)\n",
    "myNumber(4,c=6,b=8)\n",
    "#myNumber(4,6,b=8) error\n",
    "myNumber(4,6,c=8)   "
   ]
  },
  {
   "cell_type": "code",
   "execution_count": 12,
   "metadata": {},
   "outputs": [
    {
     "name": "stdout",
     "output_type": "stream",
     "text": [
      "7\n"
     ]
    }
   ],
   "source": [
    "def sum(a,b):\n",
    "    return a+b\n",
    "print(sum(4,3))"
   ]
  },
  {
   "cell_type": "code",
   "execution_count": 13,
   "metadata": {},
   "outputs": [
    {
     "name": "stdout",
     "output_type": "stream",
     "text": [
      "Hi\n",
      "Python\n"
     ]
    }
   ],
   "source": [
    "def default_print(a='Hi'):\n",
    "    print(a)\n",
    "\n",
    "default_print()\n",
    "default_print('Python')    "
   ]
  },
  {
   "cell_type": "code",
   "execution_count": 14,
   "metadata": {},
   "outputs": [
    {
     "name": "stdout",
     "output_type": "stream",
     "text": [
      "Five\n",
      "Four\n",
      "Three\n"
     ]
    }
   ],
   "source": [
    "def count_down():\n",
    "    print('Five')\n",
    "    print('Four')\n",
    "    print('Three')\n",
    "    return\n",
    "    print('Two')\n",
    "    print('One')\n",
    "    \n",
    "count_down()\n",
    "\n"
   ]
  },
  {
   "cell_type": "code",
   "execution_count": 17,
   "metadata": {},
   "outputs": [
    {
     "name": "stdout",
     "output_type": "stream",
     "text": [
      "4 * 5 = 20\n",
      "20\n",
      "4 * 8 = 32\n",
      "32\n"
     ]
    }
   ],
   "source": [
    "def mult(a,b):\n",
    "    print(a,'*',b,'=',a*b)\n",
    "    return a*b\n",
    "\n",
    "num = mult(4,5)\n",
    "print(num)\n",
    "print(mult(4,8))"
   ]
  },
  {
   "cell_type": "code",
   "execution_count": 18,
   "metadata": {},
   "outputs": [
    {
     "name": "stdout",
     "output_type": "stream",
     "text": [
      "True\n",
      "None\n"
     ]
    }
   ],
   "source": [
    "def find_odd(n):\n",
    "    if n%2 == 1:\n",
    "        return True\n",
    "    \n",
    "print(find_odd(7))\n",
    "print(find_odd(10))    "
   ]
  },
  {
   "cell_type": "code",
   "execution_count": 23,
   "metadata": {},
   "outputs": [
    {
     "name": "stdout",
     "output_type": "stream",
     "text": [
      "Enter your name\n",
      "Enter your age\n",
      "Enter your GPA\n",
      "hiruni 23 3.0\n"
     ]
    }
   ],
   "source": [
    "print(\"Enter your name\")\n",
    "name = input()\n",
    "print(\"Enter your age\")\n",
    "age = int(input())\n",
    "print(\"Enter your GPA\")\n",
    "gpa = float(input())\n",
    "\n",
    "print(name,age,gpa)"
   ]
  },
  {
   "cell_type": "code",
   "execution_count": 25,
   "metadata": {},
   "outputs": [
    {
     "name": "stdout",
     "output_type": "stream",
     "text": [
      "15\n"
     ]
    }
   ],
   "source": [
    "\n",
    "# create a function return the sum of the given list\n",
    "\n",
    "def sum_of_list(lst):\n",
    "    \n",
    "    total = 0\n",
    "    for num in lst:\n",
    "        total += num\n",
    "    return total\n",
    "\n",
    "my_list = [1, 2, 3, 4, 5]\n",
    "print(sum_of_list(my_list))\n",
    "\n"
   ]
  },
  {
   "cell_type": "code",
   "execution_count": 27,
   "metadata": {},
   "outputs": [
    {
     "name": "stdout",
     "output_type": "stream",
     "text": [
      "Prime numbers between 1 and 30:\n",
      "[2, 3, 5, 7, 11, 13, 17, 19, 23, 29]\n"
     ]
    }
   ],
   "source": [
    "# Use the prime function and find the prime numbers between 1 to 30\n",
    "def is_prime(n):\n",
    "\n",
    "    if n <= 1:\n",
    "        return False\n",
    "    elif n <= 3:\n",
    "        return True\n",
    "    elif n % 2 == 0 or n % 3 == 0:\n",
    "        return False\n",
    "    i = 5\n",
    "    while i * i <= n:\n",
    "        if n % i == 0 or n % (i + 2) == 0:\n",
    "            return False\n",
    "        i += 6\n",
    "    return True\n",
    "\n",
    "\n",
    "primes = [num for num in range(1, 31) if is_prime(num)]\n",
    "\n",
    "print(\"Prime numbers between 1 and 30:\")\n",
    "print(primes)"
   ]
  },
  {
   "cell_type": "code",
   "execution_count": 26,
   "metadata": {},
   "outputs": [
    {
     "name": "stdout",
     "output_type": "stream",
     "text": [
      "False\n"
     ]
    }
   ],
   "source": [
    "# create a boolean function to find a prime number ex: is_prime(10) - False\n",
    "def is_prime(n):\n",
    "    \n",
    "    if n <= 1:\n",
    "        return False\n",
    "    elif n <= 3:\n",
    "        return True\n",
    "    elif n % 2 == 0 or n % 3 == 0:\n",
    "        return False\n",
    "    i = 5\n",
    "    while i * i <= n:\n",
    "        if n % i == 0 or n % (i + 2) == 0:\n",
    "            return False\n",
    "        i += 6\n",
    "    return True\n",
    "\n",
    "\n",
    "print(is_prime(10))"
   ]
  }
 ],
 "metadata": {
  "kernelspec": {
   "display_name": "Python 3",
   "language": "python",
   "name": "python3"
  },
  "language_info": {
   "codemirror_mode": {
    "name": "ipython",
    "version": 3
   },
   "file_extension": ".py",
   "mimetype": "text/x-python",
   "name": "python",
   "nbconvert_exporter": "python",
   "pygments_lexer": "ipython3",
   "version": "3.10.13"
  }
 },
 "nbformat": 4,
 "nbformat_minor": 2
}
